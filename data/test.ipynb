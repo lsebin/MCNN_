{
 "cells": [
  {
   "cell_type": "code",
   "execution_count": 1,
   "metadata": {},
   "outputs": [
    {
     "name": "stdout",
     "output_type": "stream",
     "text": [
      "Done. All good.\n"
     ]
    },
    {
     "ename": "",
     "evalue": "",
     "output_type": "error",
     "traceback": [
      "\u001b[1;31mThe Kernel crashed while executing code in the the current cell or a previous cell. Please review the code in the cell(s) to identify a possible cause of the failure. Click <a href='https://aka.ms/vscodeJupyterKernelCrash'>here</a> for more info. View Jupyter <a href='command:jupyter.viewOutput'>log</a> for further details."
     ]
    }
   ],
   "source": [
    "import os, pickle\n",
    "import numpy as np\n",
    "with open('splits.pkl', 'rb') as f:\n",
    "    splits = pickle.load(f)\n",
    "with open('splits_before_medium-expert.pkl', 'rb') as f:\n",
    "    splits_before = pickle.load(f)\n",
    "\n",
    "for env_name in ['halfcheetah', 'hopper', 'walker2d']:\n",
    "    for dataset_type in ['random', 'medium', 'medium-replay', 'expert']:\n",
    "        name = f'{env_name}-{dataset_type}-v2'\n",
    "\n",
    "        for train_size in [0.1, 0.2, 0.5, 0.95]:\n",
    "            full_name = f'{name}_{round(train_size, 2)}_train'\n",
    "\n",
    "            # print(full_name)\n",
    "\n",
    "            assert splits[full_name]['train_indices'] == splits_before[full_name]['train_indices'], print(np.array(splits[full_name]['train_indices']) - np.array(splits_before[full_name]['train_indices']))\n",
    "            assert splits[full_name]['test_indices'] == splits_before[full_name]['test_indices'], print(np.array(splits[full_name]['test_indices']) - np.array(splits_before[full_name]['test_indices']))\n",
    "\n",
    "print(f'Done. All good.')"
   ]
  },
  {
   "cell_type": "code",
   "execution_count": null,
   "metadata": {},
   "outputs": [],
   "source": []
  }
 ],
 "metadata": {
  "kernelspec": {
   "display_name": "DL_env",
   "language": "python",
   "name": "python3"
  },
  "language_info": {
   "codemirror_mode": {
    "name": "ipython",
    "version": 3
   },
   "file_extension": ".py",
   "mimetype": "text/x-python",
   "name": "python",
   "nbconvert_exporter": "python",
   "pygments_lexer": "ipython3",
   "version": "3.8.10"
  },
  "orig_nbformat": 4,
  "vscode": {
   "interpreter": {
    "hash": "73302788fb12289d29bcef63b5df0f663474332c7b33285caf296f7d13e1ceb2"
   }
  }
 },
 "nbformat": 4,
 "nbformat_minor": 2
}
